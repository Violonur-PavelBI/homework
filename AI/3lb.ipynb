{
 "cells": [
  {
   "cell_type": "code",
   "execution_count": 3,
   "metadata": {},
   "outputs": [],
   "source": [
    "import math\n",
    "\n",
    "import numpy as np\n",
    "import numba"
   ]
  },
  {
   "cell_type": "code",
   "execution_count": null,
   "metadata": {},
   "outputs": [],
   "source": [
    "import pygame as pg\n",
    "import taichi as tc"
   ]
  },
  {
   "cell_type": "code",
   "execution_count": 6,
   "metadata": {},
   "outputs": [],
   "source": [
    "# settings\n",
    "res = width, height = 1080, 960\n",
    "offset = np.array([1.3 * width, height]) // 2\n",
    "zoom = 2.2 / height\n",
    "max_iter = 30\n",
    "    "
   ]
  },
  {
   "cell_type": "code",
   "execution_count": null,
   "metadata": {},
   "outputs": [],
   "source": [
    "\n",
    "# texture\n",
    "texture = pg.image.load('img/texture.jpg')\n",
    "texture_size = min(texture.get_size()) - 1\n",
    "texture_array = pg.surfarray.array3d(texture)"
   ]
  },
  {
   "cell_type": "code",
   "execution_count": 4,
   "metadata": {},
   "outputs": [],
   "source": [
    "\n",
    "class Fractal:\n",
    "    def __init__(self, app) -> None:\n",
    "        self.app = app\n",
    "        self.screen_array = np.full((width, height, 3), [0, 0, 0], dtype=np.uint8)\n",
    "        self.x = np.linspace(0, width, num=width, dtype=np.float32)\n",
    "        self.y = np.linspace(0, height, num=height, dtype=np.float32)\n",
    "    \n",
    "    @staticmethod\n",
    "    @numba.njit(fastmath=True, parallel=True)\n",
    "    def render(screen_array):\n",
    "        for x in numba.prange(width):\n",
    "            for y in numba.prange(height):\n",
    "                c = (x - offset[0]) * zoom + 1j * (y - offset[1]) * zoom\n",
    "                z = 0\n",
    "                num_iter = 0\n",
    "                for i in range(max_iter):\n",
    "                    z = z**2 + c\n",
    "                    if z.real**2 + z.imag**2 > 4: # дз чтобы её поменять\n",
    "                        break\n",
    "                    num_iter += 1\n",
    "                #трюк - градиент в зависимости от того, как долго она находится \n",
    "                #(чтобы показать удаление из окружности)\n",
    "                col = int(texture_size * num_iter / max_iter)\n",
    "                screen_array[x,y] = texture_array[col, col]   \n",
    "        return screen_array\n",
    "                 \n",
    "    def update(self):\n",
    "        self.screen_array = self.render(self.screen_array)\n",
    "    \n",
    "    def draw(self):\n",
    "        pg.surfarray.blit_array(self.app.screen, self.screen_array)\n",
    "    \n",
    "    def run(self):\n",
    "        self.update()\n",
    "        self.draw()\n"
   ]
  },
  {
   "cell_type": "code",
   "execution_count": 5,
   "metadata": {},
   "outputs": [],
   "source": [
    "\n",
    "class App:\n",
    "    def __init__(self) -> None:\n",
    "        self.screen = pg.display.set_mode(res, pg.SCALED)\n",
    "        self.clock = pg.time.Clock()\n",
    "        self.fractal = Fractal(self)\n",
    "    \n",
    "    def run(self):\n",
    "        while True:\n",
    "            self.screen.fill('black')\n",
    "            self.fractal.run()\n",
    "            pg.display.flip()\n",
    "            \n",
    "            [exit() for i in pg.event.get() if i.type == pg.QUIT]\n",
    "            self.clock.tick()\n",
    "            pg.display.set_caption(f'FPS:{self.clock.get_fps()}')\n",
    "    "
   ]
  },
  {
   "cell_type": "code",
   "execution_count": 7,
   "metadata": {},
   "outputs": [
    {
     "ename": "NameError",
     "evalue": "name 'pg' is not defined",
     "output_type": "error",
     "traceback": [
      "\u001b[1;31m---------------------------------------------------------------------------\u001b[0m",
      "\u001b[1;31mNameError\u001b[0m                                 Traceback (most recent call last)",
      "\u001b[1;32mc:\\Users\\pacha\\OneDrive\\Документы\\GitHub\\homework\\AI\\lab3.ipynb Ячейка 7\u001b[0m in \u001b[0;36m<cell line: 1>\u001b[1;34m()\u001b[0m\n\u001b[1;32m----> <a href='vscode-notebook-cell:/c%3A/Users/pacha/OneDrive/%D0%94%D0%BE%D0%BA%D1%83%D0%BC%D0%B5%D0%BD%D1%82%D1%8B/GitHub/homework/AI/lab3.ipynb#W6sZmlsZQ%3D%3D?line=0'>1</a>\u001b[0m app \u001b[39m=\u001b[39m App()\n\u001b[0;32m      <a href='vscode-notebook-cell:/c%3A/Users/pacha/OneDrive/%D0%94%D0%BE%D0%BA%D1%83%D0%BC%D0%B5%D0%BD%D1%82%D1%8B/GitHub/homework/AI/lab3.ipynb#W6sZmlsZQ%3D%3D?line=1'>2</a>\u001b[0m app\u001b[39m.\u001b[39mrun()\n",
      "\u001b[1;32mc:\\Users\\pacha\\OneDrive\\Документы\\GitHub\\homework\\AI\\lab3.ipynb Ячейка 7\u001b[0m in \u001b[0;36mApp.__init__\u001b[1;34m(self)\u001b[0m\n\u001b[0;32m      <a href='vscode-notebook-cell:/c%3A/Users/pacha/OneDrive/%D0%94%D0%BE%D0%BA%D1%83%D0%BC%D0%B5%D0%BD%D1%82%D1%8B/GitHub/homework/AI/lab3.ipynb#W6sZmlsZQ%3D%3D?line=1'>2</a>\u001b[0m \u001b[39mdef\u001b[39;00m \u001b[39m__init__\u001b[39m(\u001b[39mself\u001b[39m) \u001b[39m-\u001b[39m\u001b[39m>\u001b[39m \u001b[39mNone\u001b[39;00m:\n\u001b[1;32m----> <a href='vscode-notebook-cell:/c%3A/Users/pacha/OneDrive/%D0%94%D0%BE%D0%BA%D1%83%D0%BC%D0%B5%D0%BD%D1%82%D1%8B/GitHub/homework/AI/lab3.ipynb#W6sZmlsZQ%3D%3D?line=2'>3</a>\u001b[0m     \u001b[39mself\u001b[39m\u001b[39m.\u001b[39mscreen \u001b[39m=\u001b[39m pg\u001b[39m.\u001b[39mdisplay\u001b[39m.\u001b[39mset_mode(res, pg\u001b[39m.\u001b[39mSCALED)\n\u001b[0;32m      <a href='vscode-notebook-cell:/c%3A/Users/pacha/OneDrive/%D0%94%D0%BE%D0%BA%D1%83%D0%BC%D0%B5%D0%BD%D1%82%D1%8B/GitHub/homework/AI/lab3.ipynb#W6sZmlsZQ%3D%3D?line=3'>4</a>\u001b[0m     \u001b[39mself\u001b[39m\u001b[39m.\u001b[39mclock \u001b[39m=\u001b[39m pg\u001b[39m.\u001b[39mtime\u001b[39m.\u001b[39mClock()\n\u001b[0;32m      <a href='vscode-notebook-cell:/c%3A/Users/pacha/OneDrive/%D0%94%D0%BE%D0%BA%D1%83%D0%BC%D0%B5%D0%BD%D1%82%D1%8B/GitHub/homework/AI/lab3.ipynb#W6sZmlsZQ%3D%3D?line=4'>5</a>\u001b[0m     \u001b[39mself\u001b[39m\u001b[39m.\u001b[39mfractal \u001b[39m=\u001b[39m Fractal(\u001b[39mself\u001b[39m)\n",
      "\u001b[1;31mNameError\u001b[0m: name 'pg' is not defined"
     ]
    }
   ],
   "source": [
    "app = App()\n",
    "app.run()"
   ]
  },
  {
   "cell_type": "code",
   "execution_count": 1,
   "metadata": {},
   "outputs": [
    {
     "ename": "ModuleNotFoundError",
     "evalue": "No module named 'pygame'",
     "output_type": "error",
     "traceback": [
      "\u001b[1;31m---------------------------------------------------------------------------\u001b[0m",
      "\u001b[1;31mModuleNotFoundError\u001b[0m                       Traceback (most recent call last)",
      "\u001b[1;32mc:\\Users\\pacha\\OneDrive\\Документы\\GitHub\\homework\\AI\\lab3.ipynb Ячейка 1\u001b[0m in \u001b[0;36m<cell line: 4>\u001b[1;34m()\u001b[0m\n\u001b[0;32m      <a href='vscode-notebook-cell:/c%3A/Users/pacha/OneDrive/%D0%94%D0%BE%D0%BA%D1%83%D0%BC%D0%B5%D0%BD%D1%82%D1%8B/GitHub/homework/AI/lab3.ipynb#W0sZmlsZQ%3D%3D?line=0'>1</a>\u001b[0m \u001b[39mimport\u001b[39;00m \u001b[39mmath\u001b[39;00m\n\u001b[0;32m      <a href='vscode-notebook-cell:/c%3A/Users/pacha/OneDrive/%D0%94%D0%BE%D0%BA%D1%83%D0%BC%D0%B5%D0%BD%D1%82%D1%8B/GitHub/homework/AI/lab3.ipynb#W0sZmlsZQ%3D%3D?line=2'>3</a>\u001b[0m \u001b[39mimport\u001b[39;00m \u001b[39mnumpy\u001b[39;00m \u001b[39mas\u001b[39;00m \u001b[39mnp\u001b[39;00m\n\u001b[1;32m----> <a href='vscode-notebook-cell:/c%3A/Users/pacha/OneDrive/%D0%94%D0%BE%D0%BA%D1%83%D0%BC%D0%B5%D0%BD%D1%82%D1%8B/GitHub/homework/AI/lab3.ipynb#W0sZmlsZQ%3D%3D?line=3'>4</a>\u001b[0m \u001b[39mimport\u001b[39;00m \u001b[39mpygame\u001b[39;00m \u001b[39mas\u001b[39;00m \u001b[39mpg\u001b[39;00m\n\u001b[0;32m      <a href='vscode-notebook-cell:/c%3A/Users/pacha/OneDrive/%D0%94%D0%BE%D0%BA%D1%83%D0%BC%D0%B5%D0%BD%D1%82%D1%8B/GitHub/homework/AI/lab3.ipynb#W0sZmlsZQ%3D%3D?line=4'>5</a>\u001b[0m \u001b[39mimport\u001b[39;00m \u001b[39mnumba\u001b[39;00m\n\u001b[0;32m      <a href='vscode-notebook-cell:/c%3A/Users/pacha/OneDrive/%D0%94%D0%BE%D0%BA%D1%83%D0%BC%D0%B5%D0%BD%D1%82%D1%8B/GitHub/homework/AI/lab3.ipynb#W0sZmlsZQ%3D%3D?line=5'>6</a>\u001b[0m \u001b[39mimport\u001b[39;00m \u001b[39mtaichi\u001b[39;00m \u001b[39mas\u001b[39;00m \u001b[39mtc\u001b[39;00m\n",
      "\u001b[1;31mModuleNotFoundError\u001b[0m: No module named 'pygame'"
     ]
    }
   ],
   "source": [
    "'''\n",
    "   for x in range(width):\n",
    "            for x in range(width):\n",
    "            for y in range(height):\n",
    "                c = (x - offset[0]) * zoom + 1j * (y - offset[1]) * zoom\n",
    "                z = 0\n",
    "                num_iter = 0\n",
    "                for i in range(max_iter):\n",
    "                    z = z**2 + c\n",
    "                    if z.real**2 + z.img**2 > 4:\n",
    "                        break\n",
    "                    num_iter += 1\n",
    "                #трюк - градиент в зависимости от того, как долго она находится \n",
    "                #(чтобы показать удаление из окружности)\n",
    "                col = int(texture_size * num_iter / max_iter)\n",
    "                self.screen_array[x,y] = texture_array[col, col]    \n",
    "'''\n",
    "\n",
    "'''\n",
    "x = (self.x - offset[0]) * zoom\n",
    "        y = (self.y - offset[1]) * zoom\n",
    "        c = x + 1j * y[:, None]\n",
    "        \n",
    "        num_iter = np.full(c.shape, max_iter)\n",
    "        z = np.empty(c.shape, np.complex64)\n",
    "        for i in range(max_iter):\n",
    "            mask = (num_iter == max_iter)\n",
    "            z[mask] = z[mask]**2 + c[mask]\n",
    "            num_iter[mask & (z.real**2 + z.imag**2 > 4.0)] = i + 1 #Векторизация\n",
    "            \n",
    "        col = (num_iter.T * texture_size / max_iter).astype(np.uint8)\n",
    "        self.screen_array = texture_array[col, col]\n",
    "'''"
   ]
  }
 ],
 "metadata": {
  "kernelspec": {
   "display_name": "Python 3.9.12 64-bit ('Anaconda3')",
   "language": "python",
   "name": "python3"
  },
  "language_info": {
   "codemirror_mode": {
    "name": "ipython",
    "version": 3
   },
   "file_extension": ".py",
   "mimetype": "text/x-python",
   "name": "python",
   "nbconvert_exporter": "python",
   "pygments_lexer": "ipython3",
   "version": "3.9.12"
  },
  "orig_nbformat": 4,
  "vscode": {
   "interpreter": {
    "hash": "ad2bdc8ecc057115af97d19610ffacc2b4e99fae6737bb82f5d7fb13d2f2c186"
   }
  }
 },
 "nbformat": 4,
 "nbformat_minor": 2
}
